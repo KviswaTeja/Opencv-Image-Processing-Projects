{
 "cells": [
  {
   "cell_type": "code",
   "execution_count": 5,
   "id": "9d91d109-04d3-41d0-acea-747fd5c5e444",
   "metadata": {},
   "outputs": [],
   "source": [
    "import cv2\n",
    "import numpy as np\n",
    "\n",
    "\n",
    "image=cv2.imread(\"D:\\\\a.jpg\")\n",
    "gray= cv2.cvtColor(image,cv2.COLOR_BGR2GRAY) #convert into gray \n",
    "face=cv2.CascadeClassifier(\"D:\\\\haarcascade_frontalface_default.xml\") #for detecting face\n",
    "eye = cv2.CascadeClassifier(\"D:\\\\haarcascade_eye.xml\") #for detecting eyes\n",
    "\n",
    "#parameters(img,scale_factor[reduce image size],min_neighbour)\n",
    "faces = face.detectMultiScale(gray,4,4)   #for  faces\n",
    "\n",
    "for(x,y,w,h) in faces:\n",
    "    \n",
    "    image=cv2.rectangle(image,(x,y),(x+w,y+h),(127,0,205),3)\n",
    "    \n",
    "    #Now detect eyes\n",
    "    roi_gray = gray[y:y+h, x:x+w]\n",
    "    roi_color = image[y:y+h, x:x+w]\n",
    "    eyes = eye.detectMultiScale(roi_gray,1.2,1)\n",
    "    for (ex,ey,ew,eh) in eyes:\n",
    "        cv2.rectangle(roi_color,(ex,ey),(ex+ew,ey+eh),(255,0,0),2)\n",
    "    \n",
    "image = cv2.resize(image,(800,700))\n",
    "cv2.imshow(\"Face Detected\",image)\n",
    "cv2.waitKey(0)\n",
    "cv2.destroyAllWindows()    "
   ]
  },
  {
   "cell_type": "code",
   "execution_count": 6,
   "id": "250b6310-a3a7-47c7-b921-ffd5d7b940a3",
   "metadata": {},
   "outputs": [],
   "source": [
    "import cv2\n",
    "import numpy\n",
    "face=cv2.CascadeClassifier(\"D:\\\\haarcascade_frontalface_default.xml\")\n",
    "eye = cv2.CascadeClassifier('D:\\\\haarcascade_eye.xml') #for detecting eyes\n",
    "def dector(img):\n",
    "    gray= cv2.cvtColor(img,cv2.COLOR_BGR2GRAY)\n",
    "    faces = face.detectMultiScale(gray,1.3,5)\n",
    "    \n",
    "    for(x,y,w,h) in faces:\n",
    "\n",
    "        cv2.rectangle(img,(x,y),(x+w,y+h),(127,0,125),3)\n",
    "        \n",
    "        roi_gray = gray[y:y+h, x:x+w]\n",
    "        \n",
    "        roi_color = img[y:y+h, x:x+w]\n",
    "        \n",
    "        eyes = eye.detectMultiScale(roi_gray,1.3,3)\n",
    "        for (ex,ey,ew,eh) in eyes:\n",
    "            cv2.circle(roi_color,(ex+27,ey+27),20,(255,255,0),2)\n",
    "\n",
    "    return img\n",
    "\n",
    "cap = cv2.VideoCapture(0,cv2.CAP_DSHOW)\n",
    "while True:\n",
    "    ret,frame =cap.read()\n",
    "    frame = cv2.flip(frame,2)\n",
    "    cv2.imshow(\"face dect\",dector(frame))\n",
    "    if cv2.waitKey(1)==13:   # press enter to terminate\n",
    "        break\n",
    "    \n",
    "cap.release()\n",
    "cv2.destroyAllWindows()  "
   ]
  },
  {
   "cell_type": "code",
   "execution_count": null,
   "id": "d0421f72-d426-43e2-9563-3bc7bd82bbe8",
   "metadata": {},
   "outputs": [],
   "source": []
  }
 ],
 "metadata": {
  "kernelspec": {
   "display_name": "Python 3 (ipykernel)",
   "language": "python",
   "name": "python3"
  },
  "language_info": {
   "codemirror_mode": {
    "name": "ipython",
    "version": 3
   },
   "file_extension": ".py",
   "mimetype": "text/x-python",
   "name": "python",
   "nbconvert_exporter": "python",
   "pygments_lexer": "ipython3",
   "version": "3.11.3"
  }
 },
 "nbformat": 4,
 "nbformat_minor": 5
}
