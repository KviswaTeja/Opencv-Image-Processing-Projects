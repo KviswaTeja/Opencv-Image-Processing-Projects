{
 "cells": [
  {
   "cell_type": "code",
   "execution_count": 1,
   "id": "91a09102-1741-4728-90cc-5367ae29b208",
   "metadata": {},
   "outputs": [
    {
     "ename": "error",
     "evalue": "OpenCV(4.9.0) D:\\a\\opencv-python\\opencv-python\\opencv\\modules\\highgui\\src\\window_w32.cpp:2561: error: (-27:Null pointer) NULL window: 'win' in function 'cvGetTrackbarPos'\n",
     "output_type": "error",
     "traceback": [
      "\u001b[1;31m---------------------------------------------------------------------------\u001b[0m",
      "\u001b[1;31merror\u001b[0m                                     Traceback (most recent call last)",
      "Cell \u001b[1;32mIn[1], line 18\u001b[0m\n\u001b[0;32m     16\u001b[0m cv\u001b[38;5;241m.\u001b[39mcreateTrackbar(switch,\u001b[38;5;124m'\u001b[39m\u001b[38;5;124mwin\u001b[39m\u001b[38;5;124m'\u001b[39m,\u001b[38;5;241m0\u001b[39m,\u001b[38;5;241m1\u001b[39m,blend)  \u001b[38;5;66;03m#create track bar for switch\u001b[39;00m\n\u001b[0;32m     17\u001b[0m \u001b[38;5;28;01mwhile\u001b[39;00m(\u001b[38;5;241m1\u001b[39m):\n\u001b[1;32m---> 18\u001b[0m     alpha \u001b[38;5;241m=\u001b[39m \u001b[43mcv\u001b[49m\u001b[38;5;241;43m.\u001b[39;49m\u001b[43mgetTrackbarPos\u001b[49m\u001b[43m(\u001b[49m\u001b[38;5;124;43m'\u001b[39;49m\u001b[38;5;124;43malpha\u001b[39;49m\u001b[38;5;124;43m'\u001b[39;49m\u001b[43m,\u001b[49m\u001b[38;5;124;43m'\u001b[39;49m\u001b[38;5;124;43mwin\u001b[39;49m\u001b[38;5;124;43m'\u001b[39;49m\u001b[43m)\u001b[49m\n\u001b[0;32m     20\u001b[0m     s \u001b[38;5;241m=\u001b[39m cv\u001b[38;5;241m.\u001b[39mgetTrackbarPos(switch,\u001b[38;5;124m'\u001b[39m\u001b[38;5;124mwin\u001b[39m\u001b[38;5;124m'\u001b[39m)\n\u001b[0;32m     21\u001b[0m     na \u001b[38;5;241m=\u001b[39m \u001b[38;5;28mfloat\u001b[39m(alpha\u001b[38;5;241m/\u001b[39m\u001b[38;5;241m100\u001b[39m)\n",
      "\u001b[1;31merror\u001b[0m: OpenCV(4.9.0) D:\\a\\opencv-python\\opencv-python\\opencv\\modules\\highgui\\src\\window_w32.cpp:2561: error: (-27:Null pointer) NULL window: 'win' in function 'cvGetTrackbarPos'\n"
     ]
    }
   ],
   "source": [
    "import numpy as np\n",
    "import cv2 as cv \n",
    "#read two different images of same channel\n",
    "img1 = cv.imread(\"D:\\\\WIN_20211223_07_40_27_Pro.jpg\")\n",
    "img1 = cv.resize(img1,(500,700))\n",
    "img2 = cv.imread(\"D:\\\\WIN_20211225_13_36_29_Pro.jpg\")\n",
    "img2 = cv.resize(img2,(500,700))\n",
    "    \n",
    "def blend(x):\n",
    "    pass\n",
    "\n",
    "img = np.zeros((400,400,3),np.uint8)\n",
    "cv.namedWindow('win') #create track bar windows\n",
    "cv.createTrackbar('alpha','win',1,100,blend)\n",
    "switch = '0 : OFF \\n 1 : ON'  #create switch for invoke the trackbars\n",
    "cv.createTrackbar(switch,'win',0,1,blend)  #create track bar for switch\n",
    "while(1):\n",
    "    alpha = cv.getTrackbarPos('alpha','win')\n",
    "   \n",
    "    s = cv.getTrackbarPos(switch,'win')\n",
    "    na = float(alpha/100)\n",
    "    \n",
    "    if s == 0:\n",
    "        dst = img[:]\n",
    "    else:\n",
    "        dst = cv.addWeighted(img1,1-na,img2,na,0)\n",
    "        cv.putText(dst, str(alpha), (20, 50), cv.FONT_ITALIC,\n",
    "                   2, (0, 125, 255), 2)\n",
    "    cv.imshow('dst',dst)\n",
    "\n",
    "    k=cv.waitKey(1) & 0xFF\n",
    "    if k == \"q\":\n",
    "        break\n",
    "    \n",
    "cv.waitKey(0)    \n",
    "\n",
    "cv.destroyAllWindows()"
   ]
  },
  {
   "cell_type": "code",
   "execution_count": null,
   "id": "fa913cc7-6cdd-408a-bcc9-60e277193acb",
   "metadata": {},
   "outputs": [],
   "source": []
  }
 ],
 "metadata": {
  "kernelspec": {
   "display_name": "Python 3 (ipykernel)",
   "language": "python",
   "name": "python3"
  },
  "language_info": {
   "codemirror_mode": {
    "name": "ipython",
    "version": 3
   },
   "file_extension": ".py",
   "mimetype": "text/x-python",
   "name": "python",
   "nbconvert_exporter": "python",
   "pygments_lexer": "ipython3",
   "version": "3.11.3"
  }
 },
 "nbformat": 4,
 "nbformat_minor": 5
}
